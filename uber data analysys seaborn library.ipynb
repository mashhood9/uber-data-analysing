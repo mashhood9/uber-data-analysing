{
 "cells": [
  {
   "cell_type": "code",
   "execution_count": 64,
   "metadata": {},
   "outputs": [
    {
     "name": "stdout",
     "output_type": "stream",
     "text": [
      "Populating the interactive namespace from numpy and matplotlib\n"
     ]
    }
   ],
   "source": [
    "\n",
    "%pylab inline\n",
    "import pandas\n",
    "import seaborn"
   ]
  },
  {
   "cell_type": "code",
   "execution_count": 62,
   "metadata": {},
   "outputs": [],
   "source": [
    "data=pandas.read_csv(r\"D:\\data science project\\uber data analysis\\uber-raw-data-apr14.csv\")"
   ]
  },
  {
   "cell_type": "code",
   "execution_count": 39,
   "metadata": {},
   "outputs": [
    {
     "data": {
      "text/html": [
       "<div>\n",
       "<style scoped>\n",
       "    .dataframe tbody tr th:only-of-type {\n",
       "        vertical-align: middle;\n",
       "    }\n",
       "\n",
       "    .dataframe tbody tr th {\n",
       "        vertical-align: top;\n",
       "    }\n",
       "\n",
       "    .dataframe thead th {\n",
       "        text-align: right;\n",
       "    }\n",
       "</style>\n",
       "<table border=\"1\" class=\"dataframe\">\n",
       "  <thead>\n",
       "    <tr style=\"text-align: right;\">\n",
       "      <th></th>\n",
       "      <th>Date/Time</th>\n",
       "      <th>Lat</th>\n",
       "      <th>Lon</th>\n",
       "      <th>Base</th>\n",
       "    </tr>\n",
       "  </thead>\n",
       "  <tbody>\n",
       "    <tr>\n",
       "      <th>564511</th>\n",
       "      <td>2014-04-30 23:22:00</td>\n",
       "      <td>40.7640</td>\n",
       "      <td>-73.9744</td>\n",
       "      <td>B02764</td>\n",
       "    </tr>\n",
       "    <tr>\n",
       "      <th>564512</th>\n",
       "      <td>2014-04-30 23:26:00</td>\n",
       "      <td>40.7629</td>\n",
       "      <td>-73.9672</td>\n",
       "      <td>B02764</td>\n",
       "    </tr>\n",
       "    <tr>\n",
       "      <th>564513</th>\n",
       "      <td>2014-04-30 23:31:00</td>\n",
       "      <td>40.7443</td>\n",
       "      <td>-73.9889</td>\n",
       "      <td>B02764</td>\n",
       "    </tr>\n",
       "    <tr>\n",
       "      <th>564514</th>\n",
       "      <td>2014-04-30 23:32:00</td>\n",
       "      <td>40.6756</td>\n",
       "      <td>-73.9405</td>\n",
       "      <td>B02764</td>\n",
       "    </tr>\n",
       "    <tr>\n",
       "      <th>564515</th>\n",
       "      <td>2014-04-30 23:48:00</td>\n",
       "      <td>40.6880</td>\n",
       "      <td>-73.9608</td>\n",
       "      <td>B02764</td>\n",
       "    </tr>\n",
       "  </tbody>\n",
       "</table>\n",
       "</div>"
      ],
      "text/plain": [
       "                 Date/Time      Lat      Lon    Base\n",
       "564511 2014-04-30 23:22:00  40.7640 -73.9744  B02764\n",
       "564512 2014-04-30 23:26:00  40.7629 -73.9672  B02764\n",
       "564513 2014-04-30 23:31:00  40.7443 -73.9889  B02764\n",
       "564514 2014-04-30 23:32:00  40.6756 -73.9405  B02764\n",
       "564515 2014-04-30 23:48:00  40.6880 -73.9608  B02764"
      ]
     },
     "execution_count": 39,
     "metadata": {},
     "output_type": "execute_result"
    }
   ],
   "source": [
    "data['Date/Time'] = data['Date/Time'].map(pandas.to_datetime)\n",
    "data.tail()"
   ]
  },
  {
   "cell_type": "code",
   "execution_count": 58,
   "metadata": {},
   "outputs": [
    {
     "data": {
      "text/html": [
       "<div>\n",
       "<style scoped>\n",
       "    .dataframe tbody tr th:only-of-type {\n",
       "        vertical-align: middle;\n",
       "    }\n",
       "\n",
       "    .dataframe tbody tr th {\n",
       "        vertical-align: top;\n",
       "    }\n",
       "\n",
       "    .dataframe thead th {\n",
       "        text-align: right;\n",
       "    }\n",
       "</style>\n",
       "<table border=\"1\" class=\"dataframe\">\n",
       "  <thead>\n",
       "    <tr style=\"text-align: right;\">\n",
       "      <th></th>\n",
       "      <th>Date/Time</th>\n",
       "      <th>Lat</th>\n",
       "      <th>Lon</th>\n",
       "      <th>Base</th>\n",
       "      <th>dom</th>\n",
       "      <th>sex</th>\n",
       "    </tr>\n",
       "  </thead>\n",
       "  <tbody>\n",
       "    <tr>\n",
       "      <th>564511</th>\n",
       "      <td>2014-04-30 23:22:00</td>\n",
       "      <td>40.7640</td>\n",
       "      <td>-73.9744</td>\n",
       "      <td>B02764</td>\n",
       "      <td>30</td>\n",
       "      <td>0</td>\n",
       "    </tr>\n",
       "    <tr>\n",
       "      <th>564512</th>\n",
       "      <td>2014-04-30 23:26:00</td>\n",
       "      <td>40.7629</td>\n",
       "      <td>-73.9672</td>\n",
       "      <td>B02764</td>\n",
       "      <td>30</td>\n",
       "      <td>0</td>\n",
       "    </tr>\n",
       "    <tr>\n",
       "      <th>564513</th>\n",
       "      <td>2014-04-30 23:31:00</td>\n",
       "      <td>40.7443</td>\n",
       "      <td>-73.9889</td>\n",
       "      <td>B02764</td>\n",
       "      <td>30</td>\n",
       "      <td>0</td>\n",
       "    </tr>\n",
       "    <tr>\n",
       "      <th>564514</th>\n",
       "      <td>2014-04-30 23:32:00</td>\n",
       "      <td>40.6756</td>\n",
       "      <td>-73.9405</td>\n",
       "      <td>B02764</td>\n",
       "      <td>30</td>\n",
       "      <td>0</td>\n",
       "    </tr>\n",
       "    <tr>\n",
       "      <th>564515</th>\n",
       "      <td>2014-04-30 23:48:00</td>\n",
       "      <td>40.6880</td>\n",
       "      <td>-73.9608</td>\n",
       "      <td>B02764</td>\n",
       "      <td>30</td>\n",
       "      <td>0</td>\n",
       "    </tr>\n",
       "  </tbody>\n",
       "</table>\n",
       "</div>"
      ],
      "text/plain": [
       "                 Date/Time      Lat      Lon    Base  dom  sex\n",
       "564511 2014-04-30 23:22:00  40.7640 -73.9744  B02764   30    0\n",
       "564512 2014-04-30 23:26:00  40.7629 -73.9672  B02764   30    0\n",
       "564513 2014-04-30 23:31:00  40.7443 -73.9889  B02764   30    0\n",
       "564514 2014-04-30 23:32:00  40.6756 -73.9405  B02764   30    0\n",
       "564515 2014-04-30 23:48:00  40.6880 -73.9608  B02764   30    0"
      ]
     },
     "execution_count": 58,
     "metadata": {},
     "output_type": "execute_result"
    }
   ],
   "source": [
    "def get_dom(dt):\n",
    "    return dt.day\n",
    "\n",
    "data['dom'] = data['Date/Time'].map(get_dom)\n",
    "data.tail()"
   ]
  },
  {
   "cell_type": "code",
   "execution_count": 94,
   "metadata": {},
   "outputs": [
    {
     "data": {
      "text/html": [
       "<div>\n",
       "<style scoped>\n",
       "    .dataframe tbody tr th:only-of-type {\n",
       "        vertical-align: middle;\n",
       "    }\n",
       "\n",
       "    .dataframe tbody tr th {\n",
       "        vertical-align: top;\n",
       "    }\n",
       "\n",
       "    .dataframe thead th {\n",
       "        text-align: right;\n",
       "    }\n",
       "</style>\n",
       "<table border=\"1\" class=\"dataframe\">\n",
       "  <thead>\n",
       "    <tr style=\"text-align: right;\">\n",
       "      <th></th>\n",
       "      <th>Date/Time</th>\n",
       "      <th>Lat</th>\n",
       "      <th>Lon</th>\n",
       "      <th>Base</th>\n",
       "      <th>dom</th>\n",
       "      <th>sex</th>\n",
       "      <th>weekday</th>\n",
       "      <th>hour</th>\n",
       "      <th>month</th>\n",
       "      <th>minute</th>\n",
       "    </tr>\n",
       "  </thead>\n",
       "  <tbody>\n",
       "    <tr>\n",
       "      <th>564511</th>\n",
       "      <td>2014-04-30 23:22:00</td>\n",
       "      <td>40.7640</td>\n",
       "      <td>-73.9744</td>\n",
       "      <td>B02764</td>\n",
       "      <td>30</td>\n",
       "      <td>0</td>\n",
       "      <td>2</td>\n",
       "      <td>23</td>\n",
       "      <td>4</td>\n",
       "      <td>22</td>\n",
       "    </tr>\n",
       "    <tr>\n",
       "      <th>564512</th>\n",
       "      <td>2014-04-30 23:26:00</td>\n",
       "      <td>40.7629</td>\n",
       "      <td>-73.9672</td>\n",
       "      <td>B02764</td>\n",
       "      <td>30</td>\n",
       "      <td>0</td>\n",
       "      <td>2</td>\n",
       "      <td>23</td>\n",
       "      <td>4</td>\n",
       "      <td>26</td>\n",
       "    </tr>\n",
       "    <tr>\n",
       "      <th>564513</th>\n",
       "      <td>2014-04-30 23:31:00</td>\n",
       "      <td>40.7443</td>\n",
       "      <td>-73.9889</td>\n",
       "      <td>B02764</td>\n",
       "      <td>30</td>\n",
       "      <td>0</td>\n",
       "      <td>2</td>\n",
       "      <td>23</td>\n",
       "      <td>4</td>\n",
       "      <td>31</td>\n",
       "    </tr>\n",
       "    <tr>\n",
       "      <th>564514</th>\n",
       "      <td>2014-04-30 23:32:00</td>\n",
       "      <td>40.6756</td>\n",
       "      <td>-73.9405</td>\n",
       "      <td>B02764</td>\n",
       "      <td>30</td>\n",
       "      <td>0</td>\n",
       "      <td>2</td>\n",
       "      <td>23</td>\n",
       "      <td>4</td>\n",
       "      <td>32</td>\n",
       "    </tr>\n",
       "    <tr>\n",
       "      <th>564515</th>\n",
       "      <td>2014-04-30 23:48:00</td>\n",
       "      <td>40.6880</td>\n",
       "      <td>-73.9608</td>\n",
       "      <td>B02764</td>\n",
       "      <td>30</td>\n",
       "      <td>0</td>\n",
       "      <td>2</td>\n",
       "      <td>23</td>\n",
       "      <td>4</td>\n",
       "      <td>48</td>\n",
       "    </tr>\n",
       "  </tbody>\n",
       "</table>\n",
       "</div>"
      ],
      "text/plain": [
       "                 Date/Time      Lat      Lon    Base  dom  sex  weekday  hour  \\\n",
       "564511 2014-04-30 23:22:00  40.7640 -73.9744  B02764   30    0        2    23   \n",
       "564512 2014-04-30 23:26:00  40.7629 -73.9672  B02764   30    0        2    23   \n",
       "564513 2014-04-30 23:31:00  40.7443 -73.9889  B02764   30    0        2    23   \n",
       "564514 2014-04-30 23:32:00  40.6756 -73.9405  B02764   30    0        2    23   \n",
       "564515 2014-04-30 23:48:00  40.6880 -73.9608  B02764   30    0        2    23   \n",
       "\n",
       "        month  minute  \n",
       "564511      4      22  \n",
       "564512      4      26  \n",
       "564513      4      31  \n",
       "564514      4      32  \n",
       "564515      4      48  "
      ]
     },
     "execution_count": 94,
     "metadata": {},
     "output_type": "execute_result"
    }
   ],
   "source": [
    "def get_weekday(dt):\n",
    "    return dt.weekday()\n",
    "\n",
    "data['weekday'] = data['Date/Time'].map(get_weekday)\n",
    "\n",
    "def get_hour(dt):\n",
    "    return dt.hour\n",
    "\n",
    "data['hour'] = data['Date/Time'].map(get_hour)\n",
    "\n",
    "def get_minute(dt):\n",
    "    return dt.minute\n",
    "\n",
    "data['minute'] = data['Date/Time'].map(get_minute)\n",
    "\n",
    "def get_month(dt):\n",
    "    return dt.month\n",
    "\n",
    "data['month'] = data['Date/Time'].map(get_month)\n",
    "\n",
    "data.tail()"
   ]
  },
  {
   "cell_type": "code",
   "execution_count": 82,
   "metadata": {},
   "outputs": [
    {
     "data": {
      "text/plain": [
       "Text(0.5, 1.0, 'frequency of dom uber apr 14')"
      ]
     },
     "execution_count": 82,
     "metadata": {},
     "output_type": "execute_result"
    },
    {
     "data": {
      "image/png": "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\n",
      "text/plain": [
       "<Figure size 432x288 with 1 Axes>"
      ]
     },
     "metadata": {
      "needs_background": "light"
     },
     "output_type": "display_data"
    }
   ],
   "source": [
    "hist(data.dom, bins=30, rwidth=.8, range=(0.5,30.5))\n",
    "xlabel('date of the month')\n",
    "ylabel('frequency')\n",
    "title('frequency of dom uber apr 14')"
   ]
  },
  {
   "cell_type": "code",
   "execution_count": 87,
   "metadata": {},
   "outputs": [
    {
     "name": "stdout",
     "output_type": "stream",
     "text": [
      "1 14546\n",
      "2 17474\n",
      "3 20701\n",
      "4 26714\n",
      "5 19521\n",
      "6 13445\n",
      "7 19550\n",
      "8 16188\n",
      "9 16843\n",
      "10 20041\n",
      "11 20420\n",
      "12 18170\n",
      "13 12112\n",
      "14 12674\n",
      "15 20641\n",
      "16 17717\n",
      "17 20973\n",
      "18 18074\n",
      "19 14602\n",
      "20 11017\n",
      "21 13162\n",
      "22 16975\n",
      "23 20346\n",
      "24 23352\n",
      "25 25095\n",
      "26 24925\n",
      "27 14677\n",
      "28 15475\n",
      "29 22835\n",
      "30 36251\n"
     ]
    }
   ],
   "source": [
    "for k, rows in data.groupby('dom'):\n",
    "    print(k, len(rows))\n",
    "    \n",
    "    "
   ]
  },
  {
   "cell_type": "code",
   "execution_count": 89,
   "metadata": {},
   "outputs": [
    {
     "data": {
      "text/plain": [
       "dom\n",
       "1     14546\n",
       "2     17474\n",
       "3     20701\n",
       "4     26714\n",
       "5     19521\n",
       "6     13445\n",
       "7     19550\n",
       "8     16188\n",
       "9     16843\n",
       "10    20041\n",
       "11    20420\n",
       "12    18170\n",
       "13    12112\n",
       "14    12674\n",
       "15    20641\n",
       "16    17717\n",
       "17    20973\n",
       "18    18074\n",
       "19    14602\n",
       "20    11017\n",
       "21    13162\n",
       "22    16975\n",
       "23    20346\n",
       "24    23352\n",
       "25    25095\n",
       "26    24925\n",
       "27    14677\n",
       "28    15475\n",
       "29    22835\n",
       "30    36251\n",
       "dtype: int64"
      ]
     },
     "execution_count": 89,
     "metadata": {},
     "output_type": "execute_result"
    }
   ],
   "source": [
    "def count_rows(rows):\n",
    "    return  len(rows)\n",
    "\n",
    "by_date= data.groupby('dom').apply(count_rows)\n",
    "by_date"
   ]
  },
  {
   "cell_type": "code",
   "execution_count": 91,
   "metadata": {},
   "outputs": [
    {
     "data": {
      "text/plain": [
       "month\n",
       "4    564516\n",
       "dtype: int64"
      ]
     },
     "execution_count": 91,
     "metadata": {},
     "output_type": "execute_result"
    }
   ],
   "source": [
    "def count_rows_month(rows):\n",
    "    return len(rows)\n",
    "\n",
    "by_month = data.groupby('month').apply(count_rows_month)\n",
    "by_month"
   ]
  },
  {
   "cell_type": "code",
   "execution_count": 96,
   "metadata": {},
   "outputs": [
    {
     "data": {
      "text/plain": [
       "minute\n",
       "0     9451\n",
       "1     9358\n",
       "2     9434\n",
       "3     9243\n",
       "4     9247\n",
       "5     9486\n",
       "6     9407\n",
       "7     9409\n",
       "8     9612\n",
       "9     9469\n",
       "10    9627\n",
       "11    9395\n",
       "12    9463\n",
       "13    9605\n",
       "14    9718\n",
       "15    9687\n",
       "16    9390\n",
       "17    9267\n",
       "18    9139\n",
       "19    9317\n",
       "20    9470\n",
       "21    9210\n",
       "22    9433\n",
       "23    9229\n",
       "24    9383\n",
       "25    9516\n",
       "26    9463\n",
       "27    9460\n",
       "28    9500\n",
       "29    9538\n",
       "30    9523\n",
       "31    9280\n",
       "32    9366\n",
       "33    9308\n",
       "34    9472\n",
       "35    9497\n",
       "36    9068\n",
       "37    9466\n",
       "38    9356\n",
       "39    9497\n",
       "40    9523\n",
       "41    9372\n",
       "42    9504\n",
       "43    9302\n",
       "44    9698\n",
       "45    9725\n",
       "46    9229\n",
       "47    9448\n",
       "48    9311\n",
       "49    9176\n",
       "50    9468\n",
       "51    9257\n",
       "52    9460\n",
       "53    9197\n",
       "54    9248\n",
       "55    9355\n",
       "56    9412\n",
       "57    9238\n",
       "58    9399\n",
       "59    9435\n",
       "dtype: int64"
      ]
     },
     "execution_count": 96,
     "metadata": {},
     "output_type": "execute_result"
    }
   ],
   "source": [
    "def count_rows_hours(rows):\n",
    "    return len(rows)\n",
    "by_hour = data.groupby('hour').apply(count_rows_hours)\n",
    "by_hour\n",
    "\n",
    "def count_rows_minute(rows):\n",
    "    return len(rows)\n",
    "\n",
    "by_minute = data.groupby('minute').apply(count_rows_minute)\n",
    "by_minute"
   ]
  },
  {
   "cell_type": "code",
   "execution_count": 93,
   "metadata": {},
   "outputs": [
    {
     "data": {
      "text/plain": [
       "[<matplotlib.lines.Line2D at 0x25d641c9748>]"
      ]
     },
     "execution_count": 93,
     "metadata": {},
     "output_type": "execute_result"
    },
    {
     "data": {
      "image/png": "iVBORw0KGgoAAAANSUhEUgAAAYcAAAD8CAYAAACcjGjIAAAABHNCSVQICAgIfAhkiAAAAAlwSFlzAAALEgAACxIB0t1+/AAAADl0RVh0U29mdHdhcmUAbWF0cGxvdGxpYiB2ZXJzaW9uIDMuMC4yLCBodHRwOi8vbWF0cGxvdGxpYi5vcmcvOIA7rQAAIABJREFUeJzt3Xl8VOXZ8PHflZ0AIQkJEEggESL7IoRFAeuKgFaoK7hhpcW6vK9dbNX2eR7r+rT2bW2tS8UNUBSpS6WKUkBR2QkKYQmQAAHCkoWwBch+vX/MCUYSSEgmOZPM9f185pOZa+5zzjXjyDVz3/c5t6gqxhhjTFUBbidgjDHG91hxMMYYU40VB2OMMdVYcTDGGFONFQdjjDHVWHEwxhhTjRUHY4wx1VhxMMYYU40VB2OMMdUEuZ1AfcXExGhiYqLbaRhjTLOydu3afFWNra1dsy0OiYmJpKamup2GMcY0KyKyqy7trFvJGGNMNVYcjDHGVGPFwRhjTDVWHIwxxlRjxcEYY0w1VhyMMcZUY8XBGGNMNXUuDiISKCLfisjHzuMZIrJTRNY5t0FOXETkORHJFJE0ERlcZR9TRCTDuU2pEh8iIhucbZ4TEfHmizTG+I7F6TmkZR92Ow1Ti3P55fAAkH5a7NeqOsi5rXNi44Bk5zYNeAlARKKBR4HhwDDgURGJcrZ5yWlbud3YerwWY4yPW7I1l5/MSuWGf6xgwaYDbqdjzqJOxUFE4oGrgVfr0HwCMEs9VgKRIhIHXAUsVNUCVT0ELATGOs9FqOoKVVVgFjCxPi/GGOO79hSc4IE56+jZsS194iK45621zFm92+20zBnU9ZfDX4HfABWnxZ9yuo6eFZFQJ9YF2FOlTbYTO1s8u4a4MaaFKCot52dvraVClZdvH8LbPx3O6ORYHv5gAy98kYnne6HxJbUWBxG5BshV1bWnPfUI0AsYCkQDD1VuUsNutB7xmnKZJiKpIpKal5dXW+rGGB+gqvzXvzayad9R/nrzILq1b014SBCvTklh4qDO/GnBVh7792YqKqxA+JK6/HIYCVwrIlnAHOAyEXlLVfc7XUfFwBt4xhHA880/ocr28cC+WuLxNcSrUdXpqpqiqimxsbVeVNAY4wPeWb2H99Zm838v68HlvTueigcHBvCXmwYxdVQSM5Zn8cC76ygpO71zwril1uKgqo+oaryqJgKTgM9V9TZnrABnZtFEYKOzyTzgDmfW0gjgiKruBxYAY0QkyhmIHgMscJ47JiIjnH3dAXzk5ddpjHHBuj2H+f28TVx8fiwPXHF+tecDAoT/uro3D43txb/X72PqzDUcLy5zIVNzuoac5zBbRDYAG4AY4EknPh/YAWQCrwD3AqhqAfAEsMa5Pe7EAO7BM9idCWwHPm1AXsYYH3CwsJh731pLh4hQ/nbzIAIDap6hLiLcc0l3nrl+AMsy87nllZUcLCxu4mzN6aS5DgSlpKSoredgjG8qr1DueH0Va7IO8cE9F9GvS7s6bbdwcw73v/0NXSJbMWvqMOKjwhs5U/8jImtVNaW2dnaGtDHG6/78n60syzzIkxP71bkwAFzZpyNvTh1OXmEx17+0nK0HjjViluZsrDgYY7xqwaYDvLhkO5OHdeWmlITaNzjNsKRo/vmzC1GFG/+xnNSsgto3Ml5nxcEY4zU78gp5cO56Bsa34/fX9qn3fnp1iuD9ey4ipk0ot766isXpOV7M0tSFFQdjjFccLy7jZ2+tJShQePG2IYQGBTZofwnR4fzzZxfSs1Nbpr25lg++ya59I+M1VhyMMQ2mqjz0fhqZuYX8ffJgukS28sp+27cJ5e2fjmB4UjQPvZ9G+v6jXtmvqZ0VB2NMg72xLIuP0/bz4FU9GZUc49V9twkN4vlbBtOuVTC/fm89peV2olxTsOJgjGmQ1TsLeHp+OmP6dOSeH3RvlGNEtw7hyYn92Lj3KC9/ub1RjmG+z4qDMabeco8Wcd/b35AQHc7/u2kgjbkUy9h+cVwzII6/Lc5gywHrXmpsVhyMMfVSXqHc9/Y3FBaV8Y/bhhARFtzox3zs2r5EhAXz4D+te6mxWXEwxtTLkq25rMk6xGPX9qVnp7ZNcsz2bUJ5wulemv7VjiY5pr+y4mCMqZfZq3YT2zaUHw1u2uVXxveP4+oBcfx10TY7g7oRWXEwxpyz7EMn+GJrLpOGJhAc2PT/jDx+bV/ahnlmL5VZ91KjsOJgjDlnc1bvQYBJw7q6cvz2bUJ5YkI/0rKP8LJ1LzUKKw7GmHNSWl7BnDV7uLRnB6+d7FYfVw+I4+r+cfxtUQbbcqx7ydusOBhjzsnCzTnkFxZz6wh3fjVU9diEvrQJC+LX/7TuJW+rc3EQkUAR+VZEPnYeJ4nIKhHJEJF3RSTEiYc6jzOd5xOr7OMRJ75VRK6qEh/rxDJF5GHvvTxjjLfNXrWLLpGt+MH5HdxOhZg2oTw+oS/rs48w/WvrXvKmc/nl8ACQXuXxH4FnVTUZOARMdeJTgUOq2gN41mmHiPTBs8xoX2As8KJTcAKBF4BxQB9gstPWGONjduQVsizzIJOHJZxxZbemdnX/OMb168RfF2aQYd1LXlOn4iAi8cDVeJbyrFw3+jLgPafJTDzrSANMcB7jPH+5034CMEdVi1V1J54lQYc5t0xV3aGqJcAcp60xxse8s3o3QQFSr3UaGouI8MTEfrQODeTB99Kse8lL6vrL4a/Ab4DKd709cFhVK1cCzwYqJzt3AfYAOM8fcdqfip+2zZnixhgfUlRazj/XZjOmb0c6RIS5nc73eLqX+rF+z2FeXbrT7XRahFqLg4hcA+Sq6tqq4Rqaai3PnWu8plymiUiqiKTm5eWdJWtjjLd9unE/h0+Ucuvwbm6nUqNrBsQxtm8n/rJwG5m51r3UUHX55TASuFZEsvB0+VyG55dEpIgEOW3igX3O/WwgAcB5vh1QUDV+2jZnilejqtNVNUVVU2JjY+uQujHGW2av3E1STGsuPK+926nU6FT3Ukggv/qndS81VK3FQVUfUdV4VU3EM6D8uareCnwB3OA0mwJ85Nyf5zzGef5zVVUnPsmZzZQEJAOrgTVAsjP7KcQ5xjyvvDpjjFdsOXCU1F2HuGVYVwJ8ZCC6JrFtQ3nM6V56zbqXGqQh5zk8BPxSRDLxjCm85sRfA9o78V8CDwOo6iZgLrAZ+Ay4T1XLnXGJ+4EFeGZDzXXaGmN8xNurdhMSFMD1Q+LdTqVWPxwQx1V9O/LnhdvIzC10O51mSzxf6puflJQUTU1NdTsNY1q848VlDH96MVf26cizNw9yO506yT1WxJhnvyKxfWvevXtEg9ezbklEZK2qptTWzs6QNsac1b/X76OwuIxbh7t/RnRddWgbxpMT+7Fuz2HueesbikrL3U6p2bHiYIw5q9mrdtOzY1uGdItyO5Vzcs2Azjw5sR+fb8nl7jfXWoE4R1YcjDFnlJZ9mA17j3DriK6NugRoY7ltRDf+97r+fLktj5/OSrUCcQ6sOBhjzmj2yt20Cg5k4gXN97zUycO68sz1A1iamc/UmWs4WWIFoi6sOBhjanTkZCnz1u9jwqDOTbI+dGO6aWgCf7phIMu3H+SuGWs4UVJW+0Z+zoqDMaZG//p2LydLy332jOhzdcOQeP5y00BW7TzIj99Yw/FiKxBnY8XBGFONqjJ71S4GxLejf3w7t9Pxmh9dEM+zNw9iTVYBd76xmkIrEGdkxcEYU03qrkNsyylsVtNX62rCoC48N/kCvtl9mCmvr+ZYUanbKfkkKw7GmGpmr9xF29Agfjiws9upNIprBnTm75MvYP2ew9zx+mqOWoGoxoqDMeZ7Co6XMH/DAa4b3IXwkKDaN2imxveP4/lbBrMh+wi3v7aaIyfrXiBUlczcQmatyGLarFQGPf4fXlyS2XjJuqDl/pc3xtTLe2v3UFJewS0tZCD6bMb268RLtw3h3tlrue3VVbw5dRiR4SE1ts09WsSy7fkszTjIssx8DhwtAqBrdDhR4SG88tUO7hqZRFhwy7hUhxUHY8wpFRXK26t2MzQxip6d2rqdTpO4sk9H/nHbEO556xtufXUVb00dTlTrEI4VlbJqRwHLtuezLDOfbTmei/hFhQdzUY8YRvWIYWT3GLq2D2fljoNMmr6Seev2cdNQ31klryGsOBhjTlm+/SBZB0/w8yvOdzuVJnV57468fPsQ7n5rLTe+vIJ2rYJZt+cw5RVKaFAAw5KiuX5wPCN7xNAnLqLaZcuHJ0XTq1Nb3liexY0p8c3ybPLTWXEwxpwye9UuosKDGduvk9upNLlLe3XglTtS+M1762kdGsTPfnAeI3vEMLhrVK1dRSLCj0cm8tD7G1i9s4DhProg0rmw4mCMASDnaBH/2ZzD1FEtp9/8XP3g/FhW/faKem07YVAX/vfTLcxYntUiioPNVjLGAPDumj2UVyiTh7W8cxuaQlhwIJOHdWXBpgPsPXzS7XQarNbiICJhIrJaRNaLyCYRecyJzxCRnSKyzrkNcuIiIs+JSKaIpInI4Cr7miIiGc5tSpX4EBHZ4GzznLSEDjtjmpGy8greWb2bUT1iSIpp7XY6zdZtI7ohIry5YpfbqTRYXX45FAOXqepAYBAwVkRGOM/9WlUHObd1TmwcnvWhk4FpwEsAIhINPAoMB4YBj4pI5QXiX3LaVm43tsGvzBhTZ19n5LP/SFGLPCO6KXWJbMVVfTsyZ83uZn/111qLg3pULsQa7NzOtrboBGCWs91KIFJE4oCrgIWqWqCqh4CFeApNHBChqivUs2bpLGBiA16TMeYc/Xv9PiLCgri8d0e3U2n2plyYyOETpXy0bq/bqTRIncYcRCRQRNYBuXj+gV/lPPWU03X0rIiEOrEuwJ4qm2c7sbPFs2uI15THNBFJFZHUvLy8uqRujKlFcVk5CzfnMKZvJ0KCbBiyoYYlRdM7LoIZy7PwfN9tnur0SVDVclUdBMQDw0SkH/AI0AsYCkQDDznNaxov0HrEa8pjuqqmqGpKbGxsXVI3xtTi6235HCsu4+oBcW6n0iKICD++KJEtB46xckeB2+nU2zl9TVDVw8ASYKyq7ne6joqBN/CMI4Dnm3/VUwTjgX21xONriBtjmsD8DfuJCAtiZPcYt1NpMa4d1Jmo8GBmLN/pdir1VpfZSrEiEuncbwVcAWxxxgpwZhZNBDY6m8wD7nBmLY0AjqjqfmABMEZEopyB6DHAAue5YyIywtnXHcBH3n2ZxpiaVHYpXWVdSl5VOa114eYc9hSccDudeqnLpyEO+EJE0oA1eMYcPgZmi8gGYAMQAzzptJ8P7AAygVeAewFUtQB4wtnHGuBxJwZwD/Cqs8124NOGvzRjTG0qu5TGW5eS11VOa31rZfOc1lrrGdKqmgZcUEP8sjO0V+C+Mzz3OvB6DfFUoF9tuRhjvMu6lBpP58hWjO3biXdW7+aBK5Kb3eXP7XekMX7KupQa350jEzlaVMa/vm1+w6j2iTDGT1mXUuNL6RZF384RzFi+s9lNa7XiYIyf+mTDftq1CrYupUYkItx5USLbcgpZsf2g2+mcEysOxvih4rJyFm3OYUyfjtal1Mh+OLAz0a1DeGN5ltupnBP7VBjjh+zEt6YTFhzILcO6sii9eU1rteJgjB861aXUw7qUmsJtI7oRIMKsFVlup1JnVhyM8TNFpd91KQUH2j8BTaFTuzDG9evEnDV7OF5c5nY6dWKfDGP8zNcZ1qXkhh+PTORYURkffts8rtZqxcEYPzPfupRcMbhrFP27tGNmM7laqxUHY/xIZZfSVX2tS6mpVU5rzcgtZHkzmNZqnw5j/Ehll9L4/tal5IZrBsYR0yaEN5ZluZ1Kraw4GONHrEvJXaFBnmmti7fksPugb09rteJgjJ8oKq28lpJ1Kbnp1hHdCGwG01rtE2KMn/g6I59C61JyXceIMMb3j+PdVN+e1mrFwRg/YV1KvmPKRZ5prR/48LTWuqwEFyYiq0VkvYhsEpHHnHiSiKwSkQwReVdEQpx4qPM403k+scq+HnHiW0XkqirxsU4sU0Qe9v7LNMa/WZeSbxncNZL+XdoxZ/Vut1M5o7p8SoqBy1R1IDAIGOss//lH4FlVTQYOAVOd9lOBQ6raA3jWaYeI9AEmAX2BscCLIhIoIoHAC8A4oA8w2WlrjPGSyi6lqwd0djsVg2da69h+ndi07yh5x4rdTqdGtRYH9Sh0HgY7NwUuA95z4jPxrCMNMMF5jPP85c7a0BOAOaparKo78SwJOsy5ZarqDlUtAeY4bY0xXvJJ2j4iw4O5qHt7t1MxjtHJnu69ZZn5LmdSszr9vnS+4a8DcoGFeNZ5PqyqlaMp2UAX534XYA+A8/wRoH3V+GnbnClujPGCotJyFqXnclWfTtal5EP6dm5HVHgwX2c04+KgquWqOgiIx/NNv3dNzZy/cobnzjVejYhME5FUEUnNy8urPXFjDF9ty/PMUrJrKfmUwADhoh4xfJ2R55OX0zinrxGqehhYAowAIkWkcsXseKBykdRsIAHAeb4dUFA1fto2Z4rXdPzpqpqiqimxsbHnkroxfmv+hv3WpeSjLk6OIfdYMRm5hbU3bmJ1ma0UKyKRzv1WwBVAOvAFcIPTbArwkXN/nvMY5/nP1VMW5wGTnNlMSUAysBpYAyQ7s59C8Axaz/PGizPG31mXkm8blez5kvvVNt/rCanLpyUO+EJE0vD8Q75QVT8GHgJ+KSKZeMYUXnPavwa0d+K/BB4GUNVNwFxgM/AZcJ/TXVUG3A8swFN05jptjTENZF1Kvq1LZCvOi23NUh8clA6qrYGqpgEX1BDfgWf84fR4EXDjGfb1FPBUDfH5wPw65GuMOQfWpeT7RveI4d3UPRSXlRMaFOh2OqfY70xjWijrUmoeRifHUlRawdpdh9xO5XvsE2NMC1XZpWQrvvm2Ed3bExQgPjel1YqDMS1UZZfShdal5NPahAYxuGsUS604GGMam3UpNS+jkmPYuO8IBcdL3E7lFPvUGNMCWZdS8zI6OQZV37qUhhUHY1qgT6xLqVkZEB9JRFgQX2f4zvkOVhyMaWGKSstZnJ7L2L7WpdRcBAYII3vEsDQj32cupWGfHGNamFMnvtmKb83KqOQY9h0pYnvecbdTAaw4GNOiqCqvLd1J+9Yh1qXUzFzsXEpjqY90LVlxMKYF+ThtP6t2FvDLMedbl1IzkxAdTrf24T5zvoN9eoxpIY4Xl/HUJ+n06xLBpKFd3U7H1MPo5BhW7jhISVmF26lYcTCmpXjhi0wOHC3isWv7ERhQ0zIpxteN6hHL8ZJyvt3t/qU0rDgY0wLszD/OK1/v4PrB8QzpFuV2OqaeLuzensAA8YmrtFpxMKaZU1Ue+/cmQoMCeWhcT7fTMQ3QrlUwA+Pb8ZUPjDtYcTCmmVucnsuSrXn8/IpkOrQNczsd00Cjk2PZkH2YwyfcvZRGXVaCSxCRL0QkXUQ2icgDTvz3IrJXRNY5t/FVtnlERDJFZKuIXFUlPtaJZYrIw1XiSSKySkQyRORdZ0U4Y0wtikrLefzjzfTo0IYpFyW6nY7xgtHJMVQoLN9+0NU86vLLoQz4lar2xrN29H0i0sd57llVHeTc5gM4z00C+gJjgRdFJFBEAoEXgHFAH2Bylf380dlXMnAImOql12dMi/bKVzvYXXCCx67ta1NXW4iBCZG0DQ1yfUprrZ8mVd2vqt8494/hWcqzy1k2mQDMUdViVd0JZOJZMW4YkKmqO1S1BJgDTBARAS4D3nO2nwlMrO8LMsZf7D18kheWZDK+fydG9ohxOx3jJcGBAYzo3p6vM/JcvZTGOX3VEJFEPEuGrnJC94tImoi8LiKVUyS6AHuqbJbtxM4Ubw8cdtaSrho3LUT6/qOUlbs/b7uleeqTzQD87uo+tbQ0zc3FyTFkHzrJroMnXMuhzsVBRNoA7wM/V9WjwEtAd2AQsB/4c2XTGjbXesRrymGaiKSKSGpenm+cYm7O7stteYz729fc8uoqco8WuZ1Oi7EsM5/5Gw5w3yU96BLZyu10jJeNci6l4eZVWutUHEQkGE9hmK2qHwCoao6qlqtqBfAKnm4j8HzzT6iyeTyw7yzxfCBSRIJOi1ejqtNVNUVVU2JjY+uSunHZjGU7adcqmA3ZRxj/3FJWuDzI1hKUllfw6LxNdI0O56cXn+d2OqYRJLYPJz6qlavjDnWZrSTAa0C6qv6lSrzqJR9/BGx07s8DJolIqIgkAcnAamANkOzMTArBM2g9Tz2dal8ANzjbTwE+atjLMr4gK/84S7bl8eORifzrvpFEtAri1ldX8uKSTCoqfOOyxM3RzOVZZOYW8j/X9CEsONDtdEwjEBFGJ8ewYvtB17pk6/LLYSRwO3DZadNWnxGRDSKSBlwK/AJAVTcBc4HNwGfAfc4vjDLgfmABnkHtuU5bgIeAX4pIJp4xiNe89xKNW95cuYtAEW4Z1pWendoy7/5RjOsfxzOfbWXam6kcOVHqdorNTu6xIv66KINLesZyee8ObqdjGtHo5FiOFZexPvuwK8cPqq2Bqi6l5nGB+WfZ5ingqRri82vaTlV38F23lGkBTpSUMTd1D+P6x9EhwnNiVpvQIJ6ffAFDu0Xx1Px0rv7717x06xD6x7dzOdvm44+fbqWkrIJHf9gXz49601Jd1L09IvDVtnyGdItu8uPbxGjTKP717T6OFZUx5cJu34uLCHeOTOLduy+kokK5/qXlzF61y2dWv/Jla3cV8P432UwdnURSTGu30zGNLDI8hAHxka5dZ8mKg/E6VWXWiiz6xEWc8SJwg7tG8fH/Hc3w86L53Ycb+dXc9ZwoKauxrYHyCuXReZvoFBHG/Zf2cDsd00RG94hh3Z7DHC1q+i5YKw7G61bvLGDLgWNMuajbWbs+oluHMOPHw/jFFefz4bq9THxhGdvzCpsw0+ZjzprdbNx7lN9e3ZvWobX2BpsWYnRyDOUV6sosPysOxutmrdhFu1bBXDuw9nMZAwOEB65IZtZdw8gvLOHavy/l47QaZzL7rUPHS/jTgq0MT4rmhwNsXWh/ckHXKMJDAl0538GKg/Gq/UdO8tmmA0wamkCrkLpPsxydHMvH/2cUPTu15f63v+X38zb5xGpYvuDPC7dyrKiMxybYILS/CQkK4MLz2rPUhfMdrDgYr3p71W4qVLltRLfaG5+mc2Qr5ky7kLtGJjFjeRZPfLy5ETJsXjbuPcLbq3Zz+4hu9OoU4XY6xgWjkmPIOniCPQVNeykNKw7Ga4rLynln9W4u79WBhOjweu0jJCiA//lhH24f0Y23V+8mM/eYl7NsPopKy/nthxuICg/hF1ee73Y6xiWjT11Ko2l/PVhxMF7z6YYD5BeWcMeFiQ3e18+vSKZVcCB/+HRLwxNrhioqlF/NXc+GvUd4+rr+tGsV7HZKxiXdY1sT1y6syccdrDgYr5m5IovzYlozyguXj27fJpR7L+3OovRcv7we0//7z1Y+2bCfR8b14qq+ndxOx7io8lIayzLzKW/Cy85YcTBekZZ9mG93H+b2C7sREOCdQdO7RibRuV0YT89P96trMc1N3cOLS7YzeVgCPx1tF9Yznqu0Hi0qI60JL6VhxcF4xawVuwgPCeT6IfFe22dYcCAPXtWTDXuPMG+9f0xvXb49n99+sIHRyTE8PqGfzU4yAIzqEYMITTpryYqDabCC4yXMW7+P6wZ3ISLMu33jEwd1oW/nCP60YCtFpeVe3bev2Z5XyM/eXEtSTGuev2WwLftpToluHULfzhFNOihtnz7TYHPW7KakrIIpXhiIPl1AgPC78b3Ze/gkM5ZneX3/vqLgeAl3zVhDcGAAr9851AagTTWjk2P5ZvchCoub5jIzVhxMg5SVVzB75W4u6t6e5I5tG+UYF/WI4bJeHXjh80wKjpc0yjHcVFxWzrRZqew/UsQrU1LqPQ3YtGyje8RQVqGsbKIJGlYcTIMs3pLL3sMnvTJ99WweGdeL4yVlPLc4o1GP09RUld+8l0bqrkP85aaBDO5a84UKjRmSGEVYcECTXaXVioNpkFkrsujcLowrGnnhmeSObbl5aFfeWrmLnfnHG/VYTemvizL4aN0+fn1VT64Z0NntdIwPCw0KZHhSe75qovMd6rJMaIKIfCEi6SKySUQecOLRIrJQRDKcv1FOXETkORHJFJE0ERlcZV9TnPYZIjKlSnyIs6pcprOtTdFoBjJzj7Es8yC3juhGUBMMnv7iymRCggL4Yws5Me5f3+7lb4szuGFIPPde0t3tdEwzMDo5huyCkxwsLG70Y9Xl/+gy4Feq2hsYAdwnIn2Ah4HFqpoMLHYeA4zDs250MjANeAk8xQR4FBiOZ9W3RysLitNmWpXtxjb8pZnGNmvFLkICA5g0NKFJjtehbRg/+0F3Ptt0gNSsgiY5ZmNZvbOA37yXxojzonn6R/1tyqqpk5uHJrDu0Stp3ya00Y9Va3FQ1f2q+o1z/xie9Z+7ABOAmU6zmcBE5/4EYJZ6rAQiRSQOuApYqKoFqnoIWAiMdZ6LUNUV6lkObFaVfRkfdayolPfXZnPNwLgm+aBW+snoJDq0DeXJT9Kb7epxWfnHufvNVOKjWvGP24YQEmS9u6Zu2oYFEx7SNOt5nNOnUkQSgQuAVUBHVd0PngICVHY6dwH2VNks24mdLZ5dQ7ym408TkVQRSc3La/rrm5vvfPDNXo6XlDfK9NWzCQ8J4sExPVm35zCfbNjfpMf2hsMnPFNWAV6/cyiR4SEuZ2RMzepcHESkDfA+8HNVPXq2pjXEtB7x6kHV6aqaoqopsbGxtaVsGklFhTJzRRYDEyIZmBDZ5Me/fkg8vTq15ZnPtlJc1nxOjCspq+Bnb60l+9BJpt+RQqKtA218WJ2Kg4gE4ykMs1X1Ayec43QJ4fzNdeLZQNVO6HhgXy3x+Brixkct257Pjrzj3HnRua/Z4A2BAcIj43uzu+AEb67Y5UoO56KkrIJvdh/iF++uY+WOAp65YQBDE6PdTsuYs6q188qZOfQakK6qf6ny1DxgCvAH5+9HVeL3i8gcPIPPR1R1v4gsAJ6uMgg9BnhEVQtE5JiIjMDTXXUH8HcvvDbTSGYu30VlKQMNAAASk0lEQVT71iGM7+/ekpU/OD+W0ckx/P3zTG4ckkC7cN85o/hESRnf7j7M6p0FrN5ZwLd7DlFU6lnV7sEx5zPxgtqXTzXGbXUZ2RgJ3A5sEJF1Tuy3eIrCXBGZCuwGbnSemw+MBzKBE8CPAZwi8ASwxmn3uKpWTjm5B5gBtAI+dW7GB+0pOMHiLTncd0kPQoPqvgxoY/jt+N6Mf+5rnv8ig99d3ce1PA6fKCE16xCrszzFYOPeI5RVKCLQJy6CSUO7MjwpmpTEaGLbNt3gvTENUWtxUNWl1DwuAHB5De0VuO8M+3odeL2GeCrQr7ZcjPveWrWLABFuGd7V7VToHRfBDYPjmbl8F7ePSKRr+6a57MTRolK+3JrH6p0FrMkqYMsBz2p1IYEBDIhvx7SLz2NoUjRDukV5/UKExjSVppkTZVqEotJy3l2zhzF9OtI5spXb6QDwqzE9+XfaPp5ZsIXnbxlc+wb1dKyolEXpOXySdoCvtuVRUl5BeEggQ7pFcXX/OIYmRTMoIZKwYHd/TRnjLVYcTJ19krafwydKG/06SueiU7swpo0+j+c+z2TqqENc4MVrExUWl7E4PYeP0/bz5bY8Ssoq6BQRxm0jujG+fycGJUQ2yZnhxrjBioOps882HaBzuzBGnOdbM22m/aA7b6/ezdPz05l794UNOtu4siB8krafJU5B6BgRyq3Du3LNgDguSIjy2kp3xvgyKw6mTopKy1makc8NQ+J97lIPbUKD+MWV5/O7Dzcya8UuBiVEEhIU4LkFBhBaed95fPq3/ePFZSzekssnaftYsjWP4rIKOrQN5ZZhnoIwuKsVBON/rDiYOlmx/SAnS8u5vJGvvlpfN6ckMGv5Lh6dt6nWtgHiucJlZcE4erL0VEGYPKwr4/vHkdLNCoLxb1YcTJ0sSs8hPCSQEee1dzuVGgUFBvDPey5k3e7DlJRVUFJe4flbVkFxlfue58qr3K8gPCSIMX06kpIYTaAVBGMAKw6mDlSVz7fkMjo5xqdn40SEBXPx+XZZFWO8waZamFpt2neU/UeKuLx3R7dTMcY0ESsOplaL03MRgct6+eZ4gzHG+6w4mFot3pLDoIRIYppw3QZjjLusOJizyjlaRFr2Ea6wLiVj/IoVB3NWn2/xXIndV6ewGmMahxUHc1aL03PoEtmKnh3bup2KMaYJWXEwZ1RUWs7SzHyu6N3B586KNsY0LisO5oyWZeZTVFphU1iN8UO1FgcReV1EckVkY5XY70Vkr4isc27jqzz3iIhkishWEbmqSnysE8sUkYerxJNEZJWIZIjIuyJiK677iEXpubQOCWS4j11ozxjT+Oryy2EGMLaG+LOqOsi5zQcQkT7AJKCvs82LIhIoIoHAC8A4oA8w2WkL8EdnX8nAIWBqQ16Q8Q7PWdE5XHx+rOsrvhljml6txUFVvwIKamvnmADMUdViVd2JZ6nQYc4tU1V3qGoJMAeY4KxPfRnwnrP9TGDiOb4G0wg27j1KztFi61Iyxk81ZMzhfhFJc7qdKldY6QLsqdIm24mdKd4eOKyqZafFjcsWpecgApf2tGsVGeOP6lscXgK6A4OA/cCfnXhNU1q0HvEaicg0EUkVkdS8vLxzy9ick8VbchjcNYr2dla0MX6pXsVBVXNUtVxVK4BX8HQbgeebf0KVpvHAvrPE84FIEQk6LX6m405X1RRVTYmNtW+0jeXAkSI27j1qJ74Z48fqVRxEJK7Kwx8BlTOZ5gGTRCRURJKAZGA1sAZIdmYmheAZtJ6nqgp8AdzgbD8F+Kg+ORnvWbwlB8AumWGMH6t1PQcReQe4BIgRkWzgUeASERmEpwsoC7gbQFU3ichcYDNQBtynquXOfu4HFgCBwOuqWrlk10PAHBF5EvgWeM1rr87Uy+L0XBKiW5HcoY3bqRhjXFJrcVDVyTWEz/gPuKo+BTxVQ3w+ML+G+A6+65YyLjtZUs6yzHwmD+tqZ0Ub48fsDGnzPUsz8ykuq7AuJWP8nBUH8z2L03NoGxrEsCQ7K9oYf2bFwZxSUaEs3pLLxefHEhJkHw1j/Jn9C2BO2bD3CHnHim0KqzHGioP5zuL0HAIELu1pxcEYf2fFwZyyKD2XId2iiGptF8Y1xt9ZcTAA7Dt8ks37j9qF9owxgBUH41jsrBV9hY03GGPww+KgqpSWV7idhs9ZnJ5Dt/bhdI+1s6KNMX5WHErLK7jzjTU889kWt1PxKSdKyli+/SCX9+poZ0UbYwA/Kw7BgQF0iWrFa0t38u3uQ26n4zO+zsinpKzCupSMMaf4VXEAeGRcLzpGhPGb99IoLit3Ox2fsDg9h7ZhQQy1s6KNMQ6/Kw5tw4J5+rr+ZOQW8vznmW6n47qKCuXzLXn84PxYggP97uNgjDkDv/zX4NKeHbhucBdeXLKdjXuPuJ2Oq9ZnHya/sNgutGeM+R6/LA4A/3NNH6LCQ/jNe2l+PXtpcXougQHCJbZWtDGmCr8tDpHhITw5sR+b9x/l5S+3u52Oaxal5zCkWxSR4XZWtDHmO7UWBxF5XURyRWRjlVi0iCwUkQznb5QTFxF5TkQyRSRNRAZX2WaK0z5DRKZUiQ8RkQ3ONs9JE86lHNuvE1cPiOO5xZlk5BxrqsP6jOxDJ9hy4JjNUjLGVFOXXw4zgLGnxR4GFqtqMrDYeQwwDs+60cnANOAl8BQTPMuLDsez6tujlQXFaTOtynanH6tRPXZtX1qHBvLr99Ior9CmPLTrPnfOirZLZhhjTldrcVDVr4CC08ITgJnO/ZnAxCrxWeqxEogUkTjgKmChqhao6iFgITDWeS5CVVeoqgKzquyrScS0CeX31/Zl3Z7DvLFsZ1Me2nWL0nNJimltZ0UbY6qp75hDR1XdD+D8reyX6ALsqdIu24mdLZ5dQ7xGIjJNRFJFJDUvL6+eqVd37cDOXNG7A39asJWd+ce9tl9fVlhcxsrtB7m8l3UpGWOq8/aAdE3jBVqPeI1UdbqqpqhqSmys92bXiAhPTuxPSFAAD72fRoUfdC8tzcijpLzCupSMMTWqb3HIcbqEcP7mOvFsIKFKu3hgXy3x+BriTa5TuzD+++o+rN5ZwOzVu91IocmoKnNTs4kICyIlMar2DYwxfqe+xWEeUDnjaArwUZX4Hc6spRHAEafbaQEwRkSinIHoMcAC57ljIjLCmaV0R5V9NbkbU+IZnRzDH+ank33ohFtpNLp/fLmDz7fkcv9lPeysaGNMjeoylfUdYAXQU0SyRWQq8AfgShHJAK50HgPMB3YAmcArwL0AqloAPAGscW6POzGAe4BXnW22A59656WdOxHh6R/1R4FHPtiAZ4y8ZVmyNZdnFmzhmgFx/HT0eW6nY4zxUdJc/wFMSUnR1NTURtn3rBVZ/M9Hm3jmhgHclJJQa/vmIiv/ONc+v5TOka344N6LCA8JcjslY0wTE5G1qppSWzvrU6jBbcO7MSwxmic+3kzO0SK30/GKwuIypr2ZSkCA8ModKVYYjDFnZcWhBgEBwh9vGEBJWQW/+3Bjs+9eUlUenLuezNxCnp88mITocLdTMsb4OCsOZ5AU05oHx/RkUXoO/07b73Y6DfLCF5l8tukAj4zrzajkGLfTMcY0A1YczuKuUUkMTIjk9/M2cbCw2O106uXzLTn8eeE2JgzqzE9GJ7mdjjGmmbDicBaBAcKfbhjAsaJSfvfhxmZ3ctyOvEIeeGcdvTtF8IfrBtj60MaYOrPiUIvzO7blwTE9+WzTAR7796ZmM/5wrKiUaW+uJTgogOl3DKFVSKDbKRljmhGbslIH0y4+j/zCYl75eidhIYE8PLaXT38Lr6hQfjl3PTvzj/Pm1GHER9kAtDHm3FhxqAMR4bfje3OytJyXv9xBeHAQD1yR7HZaZ/T3zzNZuDmH/76mDxd1twFoY8y5s+JQRyLC49f242RJBc8u2kZ4SCA/vdj3zjBeuDmHZxdt47oLunDXyES30zHGNFNWHM5BQIDwx+v7U1RazlPz0wkLCeT2Ed3cTuuUzNxCfvHuOvp3acfT1/X36a4vY4xvs+JwjoICA3j25kEUlZbz3//aSKvgQG4YEl/7ho3saFEp095MJTQogH/cPoSwYBuANsbUn81WqoeQoABeuHUwo3rE8Jv31vNxmitXGT+lokL5xZx17D54ghduHUyXyFau5mOMaf6sONRTWHAg0+8YwpBuUfx8zjoWbc5xJY8jJ0t5/OPNLN6Sy39d3ZsR57V3JQ9jTMtixaEBwkOCeP3OofTtHMG9s7/h6wzvLV16NqrKyh0H+cW76xj21CJmLM9i8rAEplyU2CTHN8a0fHbJbi84fKKESdNXknXwOLPuGs6wpOhGOU7u0SLe+yabf6ZmszP/OG1Dg7h2UGcmDe1Kvy4RNgBtjKlVXS/Z3aDiICJZwDGgHChT1RQRiQbeBRKBLOAmVT3krPT2N2A8cAK4U1W/cfYzBfgvZ7dPqurM2o7tS8UBIL+wmJtfXkHO0WLe+slwBiVEemW/ZeUVLNmax5w1e/hiay7lFcqwpGhuTklgfP84O/PZGHNOmrI4pKhqfpXYM0CBqv5BRB4GolT1IREZD/wfPMVhOPA3VR3uFJNUIAVQYC0wRFUPne3YvlYcAA4cKeKml1dw5GQpc6aNoHdcRL33lZV/nLmpe3hvbTa5x4qJaRPKDUPiuSklnvNi23gxa2OMP6lrcWiMqawTgEuc+zOBJcBDTnyWeqrRShGJFJE4p+3CymVDRWQhMBZ4pxFya1Sd2oUx+yfDuenlFdz26irevftCenT47h9yVaW4rIKTJeWcLPXcipzbyZIKTpaWk19YzEfr9rJyRwEBApf16sBNKQlc2quDrfdsjGkyDS0OCvxHRBR4WVWnAx1VdT+Aqu4XkQ5O2y7AnirbZjuxM8WbpYTocKdArGTiC8uICAuiqEpBqItu7cP59VU9uWFIPB0jwho5Y2OMqa6hxWGkqu5zCsBCEdlylrY1jZbqWeLVdyAyDZgG0LVr13PNtcmcF9uGd346nH98uQMRaBUcSKuQQMKCAz33gwNOPT4VC/H8DQ8JJLF9awICbHDZGOOeBhUHVd3n/M0VkQ+BYUCOiMQ5vxrigFyneTaQUGXzeGCfE7/ktPiSMxxvOjAdPGMODcm9sSV3bMufbxrodhrGGFMv9e7EFpHWItK28j4wBtgIzAOmOM2mAB859+cBd4jHCOCI0/20ABgjIlEiEuXsZ0F98zLGGNNwDfnl0BH40JlbHwS8raqficgaYK6ITAV2Azc67efjmamUiWcq648BVLVARJ4A1jjtHq8cnDbGGOMOOwnOGGP8SF2nstrcSGOMMdVYcTDGGFONFQdjjDHVWHEwxhhTjRUHY4wx1TTb2UoikgfsqufmMUB+ra1aPnsfPOx98LD34Tst+b3opqqxtTVqtsWhIUQktS5TuVo6ex887H3wsPfhO/ZeWLeSMcaYGlhxMMYYU42/FofpbifgI+x98LD3wcPeh+/4/Xvhl2MOxhhjzs5ffzkYY4w5C78qDiIyVkS2ikims7613xKRLBHZICLrRMRvrmAoIq+LSK6IbKwSixaRhSKS4fyNcjPHpnCG9+H3IrLX+Uysc9Z9b9FEJEFEvhCRdBHZJCIPOHG/+0yczm+Kg4gEAi8A44A+wGQR6eNuVq67VFUH+dmUvRl41iiv6mFgsaomA4udxy3dDKq/DwDPOp+JQao6v4lzckMZ8CtV7Q2MAO5z/l3wx8/E9/hNccCzSl2mqu5Q1RJgDjDB5ZxME1PVr4DT1wuZAMx07s8EJjZpUi44w/vgd1R1v6p+49w/BqTjWcPe7z4Tp/On4tAF2FPlcbYT81cK/EdE1jprc/uzjs6qhDh/O7icj5vuF5E0p9vJr7pSRCQRuABYhX0m/Ko4SA0xf56qNVJVB+PpZrtPRC52OyHjupeA7sAgYD/wZ3fTaToi0gZ4H/i5qh51Ox9f4E/FIRtIqPI4HtjnUi6uU9V9zt9c4EM83W7+KkdE4gCcv7ku5+MKVc1R1XJVrQBewU8+EyISjKcwzFbVD5yw338m/Kk4rAGSRSRJREKAScA8l3NyhYi0FpG2lfeBMcDGs2/Vos0Dpjj3pwAfuZiLayr/MXT8CD/4TIiIAK8B6ar6lypP+f1nwq9OgnOm5v0VCAReV9WnXE7JFSJyHp5fCwBBwNv+8l6IyDvAJXiuupkDPAr8C5gLdAV2AzeqaoserD3D+3AJni4lBbKAuyv73VsqERkFfA1sACqc8G/xjDv41WfidH5VHIwxxtSNP3UrGWOMqSMrDsYYY6qx4mCMMaYaKw7GGGOqseJgjDGmGisOxhhjqrHiYIwxphorDsYYY6r5/5+C5OMxQ1SMAAAAAElFTkSuQmCC\n",
      "text/plain": [
       "<Figure size 432x288 with 1 Axes>"
      ]
     },
     "metadata": {
      "needs_background": "light"
     },
     "output_type": "display_data"
    }
   ],
   "source": [
    "plot(by_hour)\n"
   ]
  },
  {
   "cell_type": "code",
   "execution_count": 97,
   "metadata": {},
   "outputs": [
    {
     "data": {
      "text/plain": [
       "[<matplotlib.lines.Line2D at 0x25d649ab390>]"
      ]
     },
     "execution_count": 97,
     "metadata": {},
     "output_type": "execute_result"
    },
    {
     "data": {
      "image/png": "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\n",
      "text/plain": [
       "<Figure size 432x288 with 1 Axes>"
      ]
     },
     "metadata": {
      "needs_background": "light"
     },
     "output_type": "display_data"
    }
   ],
   "source": [
    "plot(by_minute)"
   ]
  },
  {
   "cell_type": "code",
   "execution_count": 100,
   "metadata": {},
   "outputs": [
    {
     "data": {
      "text/plain": [
       "<BarContainer object of 30 artists>"
      ]
     },
     "execution_count": 100,
     "metadata": {},
     "output_type": "execute_result"
    },
    {
     "data": {
      "image/png": "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\n",
      "text/plain": [
       "<Figure size 432x288 with 1 Axes>"
      ]
     },
     "metadata": {
      "needs_background": "light"
     },
     "output_type": "display_data"
    }
   ],
   "source": [
    "bar(range(1,31),by_date)"
   ]
  },
  {
   "cell_type": "code",
   "execution_count": 101,
   "metadata": {},
   "outputs": [
    {
     "data": {
      "text/plain": [
       "dom\n",
       "20    11017\n",
       "13    12112\n",
       "14    12674\n",
       "21    13162\n",
       "6     13445\n",
       "1     14546\n",
       "19    14602\n",
       "27    14677\n",
       "28    15475\n",
       "8     16188\n",
       "9     16843\n",
       "22    16975\n",
       "2     17474\n",
       "16    17717\n",
       "18    18074\n",
       "12    18170\n",
       "5     19521\n",
       "7     19550\n",
       "10    20041\n",
       "23    20346\n",
       "11    20420\n",
       "15    20641\n",
       "3     20701\n",
       "17    20973\n",
       "29    22835\n",
       "24    23352\n",
       "26    24925\n",
       "25    25095\n",
       "4     26714\n",
       "30    36251\n",
       "dtype: int64"
      ]
     },
     "execution_count": 101,
     "metadata": {},
     "output_type": "execute_result"
    }
   ],
   "source": [
    "by_date_sorted = by_date.sort_values()\n",
    "by_date_sorted"
   ]
  },
  {
   "cell_type": "code",
   "execution_count": 107,
   "metadata": {},
   "outputs": [
    {
     "data": {
      "text/plain": [
       "''"
      ]
     },
     "execution_count": 107,
     "metadata": {},
     "output_type": "execute_result"
    },
    {
     "data": {
      "image/png": "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\n",
      "text/plain": [
       "<Figure size 432x288 with 1 Axes>"
      ]
     },
     "metadata": {
      "needs_background": "light"
     },
     "output_type": "display_data"
    }
   ],
   "source": [
    "bar(range(1,31), by_date_sorted)\n",
    "xticks(range(1,31), by_date_sorted.index)\n",
    ";"
   ]
  },
  {
   "cell_type": "code",
   "execution_count": 111,
   "metadata": {},
   "outputs": [
    {
     "data": {
      "text/plain": [
       "(array([ 60861.,  91185., 108631.,  85067.,  90303.,  77218.,  51251.]),\n",
       " array([-0.5       ,  0.42857143,  1.35714286,  2.28571429,  3.21428571,\n",
       "         4.14285714,  5.07142857,  6.        ]),\n",
       " <a list of 7 Patch objects>)"
      ]
     },
     "execution_count": 111,
     "metadata": {},
     "output_type": "execute_result"
    },
    {
     "data": {
      "image/png": "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\n",
      "text/plain": [
       "<Figure size 432x288 with 1 Axes>"
      ]
     },
     "metadata": {
      "needs_background": "light"
     },
     "output_type": "display_data"
    }
   ],
   "source": [
    " hist(data.weekday, bins=7, range=(-.5,6), rwidth=0.9, color='red')"
   ]
  },
  {
   "cell_type": "code",
   "execution_count": 113,
   "metadata": {},
   "outputs": [
    {
     "data": {
      "text/plain": [
       "Lon\n",
       "-74.7733    1\n",
       "-74.7659    1\n",
       "-74.7039    1\n",
       "-74.6631    1\n",
       "-74.6563    1\n",
       "-74.6561    1\n",
       "-74.6559    1\n",
       "-74.6558    1\n",
       "-74.6557    2\n",
       "-74.6556    1\n",
       "-74.6554    1\n",
       "-74.6512    1\n",
       "-74.6489    1\n",
       "-74.6456    1\n",
       "-74.6447    1\n",
       "-74.6406    1\n",
       "-74.6377    1\n",
       "-74.6284    1\n",
       "-74.6250    1\n",
       "-74.6235    1\n",
       "-74.6224    1\n",
       "-74.6189    1\n",
       "-74.6137    1\n",
       "-74.6125    1\n",
       "-74.6119    1\n",
       "-74.6118    1\n",
       "-74.6078    1\n",
       "-74.6036    1\n",
       "-74.5993    1\n",
       "-74.5922    1\n",
       "           ..\n",
       "-73.2386    1\n",
       "-73.2378    4\n",
       "-73.2356    1\n",
       "-73.2350    1\n",
       "-73.2292    1\n",
       "-73.2232    1\n",
       "-73.2212    1\n",
       "-73.2037    2\n",
       "-73.2023    1\n",
       "-73.1940    1\n",
       "-73.1936    1\n",
       "-73.1759    1\n",
       "-73.1731    1\n",
       "-73.1636    1\n",
       "-73.1385    2\n",
       "-73.1317    1\n",
       "-73.1283    1\n",
       "-73.0979    1\n",
       "-73.0957    1\n",
       "-73.0863    1\n",
       "-73.0807    1\n",
       "-73.0791    1\n",
       "-73.0405    1\n",
       "-72.9299    1\n",
       "-72.9265    1\n",
       "-72.9237    1\n",
       "-72.8987    1\n",
       "-72.7734    2\n",
       "-72.7006    2\n",
       "-72.0666    1\n",
       "Length: 5621, dtype: int64"
      ]
     },
     "execution_count": 113,
     "metadata": {},
     "output_type": "execute_result"
    }
   ],
   "source": [
    "def count_rows_langitude(rows):\n",
    "    return len(rows)\n",
    "\n",
    "by_langitude = data.groupby('Lon').apply(count_rows_minute)\n",
    "by_langitude"
   ]
  },
  {
   "cell_type": "code",
   "execution_count": 114,
   "metadata": {},
   "outputs": [
    {
     "data": {
      "text/plain": [
       "Lat\n",
       "40.0729    1\n",
       "40.1918    1\n",
       "40.2026    1\n",
       "40.2168    1\n",
       "40.2259    1\n",
       "40.2549    1\n",
       "40.2643    1\n",
       "40.2678    1\n",
       "40.2825    1\n",
       "40.3082    1\n",
       "40.3164    1\n",
       "40.3243    1\n",
       "40.3268    1\n",
       "40.3343    1\n",
       "40.3488    1\n",
       "40.3530    1\n",
       "40.3533    1\n",
       "40.3554    1\n",
       "40.3566    1\n",
       "40.3642    1\n",
       "40.4002    1\n",
       "40.4080    1\n",
       "40.4132    1\n",
       "40.4241    1\n",
       "40.4277    1\n",
       "40.4314    1\n",
       "40.4355    1\n",
       "40.4367    1\n",
       "40.4399    1\n",
       "40.4405    1\n",
       "          ..\n",
       "41.1618    1\n",
       "41.1642    1\n",
       "41.1651    1\n",
       "41.1652    2\n",
       "41.1676    1\n",
       "41.1810    1\n",
       "41.1843    1\n",
       "41.1890    1\n",
       "41.1952    2\n",
       "41.1979    1\n",
       "41.2058    1\n",
       "41.2060    1\n",
       "41.2087    1\n",
       "41.2090    1\n",
       "41.2162    1\n",
       "41.2261    1\n",
       "41.2339    1\n",
       "41.2483    1\n",
       "41.2845    1\n",
       "41.2981    1\n",
       "41.3000    1\n",
       "41.3056    1\n",
       "41.3197    1\n",
       "41.3199    1\n",
       "41.3469    1\n",
       "41.3730    1\n",
       "41.3737    1\n",
       "41.5016    1\n",
       "41.5276    2\n",
       "42.1166    1\n",
       "Length: 4149, dtype: int64"
      ]
     },
     "execution_count": 114,
     "metadata": {},
     "output_type": "execute_result"
    }
   ],
   "source": [
    "def count_rows_latitude(rows):\n",
    "    return len(rows)\n",
    "\n",
    "by_latitude = data.groupby('Lat').apply(count_rows_minute)\n",
    "by_latitude"
   ]
  },
  {
   "cell_type": "code",
   "execution_count": 122,
   "metadata": {},
   "outputs": [],
   "source": [
    "df = pandas.DataFrame()\n",
    "\n",
    "\n",
    "def Langitude(langi):\n",
    "    return langi\n",
    "df['langitude'] = data['Lon'].map(Langitude)\n",
    "\n",
    "def Latitude(lati):\n",
    "    return lati\n",
    "\n",
    "df['latitude'] = data['Lat'].map(Latitude)\n"
   ]
  },
  {
   "cell_type": "code",
   "execution_count": 125,
   "metadata": {},
   "outputs": [
    {
     "data": {
      "text/html": [
       "<div>\n",
       "<style scoped>\n",
       "    .dataframe tbody tr th:only-of-type {\n",
       "        vertical-align: middle;\n",
       "    }\n",
       "\n",
       "    .dataframe tbody tr th {\n",
       "        vertical-align: top;\n",
       "    }\n",
       "\n",
       "    .dataframe thead th {\n",
       "        text-align: right;\n",
       "    }\n",
       "</style>\n",
       "<table border=\"1\" class=\"dataframe\">\n",
       "  <thead>\n",
       "    <tr style=\"text-align: right;\">\n",
       "      <th></th>\n",
       "      <th>langitude</th>\n",
       "      <th>latitude</th>\n",
       "    </tr>\n",
       "  </thead>\n",
       "  <tbody>\n",
       "    <tr>\n",
       "      <th>0</th>\n",
       "      <td>-73.9549</td>\n",
       "      <td>40.7690</td>\n",
       "    </tr>\n",
       "    <tr>\n",
       "      <th>1</th>\n",
       "      <td>-74.0345</td>\n",
       "      <td>40.7267</td>\n",
       "    </tr>\n",
       "    <tr>\n",
       "      <th>2</th>\n",
       "      <td>-73.9873</td>\n",
       "      <td>40.7316</td>\n",
       "    </tr>\n",
       "    <tr>\n",
       "      <th>3</th>\n",
       "      <td>-73.9776</td>\n",
       "      <td>40.7588</td>\n",
       "    </tr>\n",
       "    <tr>\n",
       "      <th>4</th>\n",
       "      <td>-73.9722</td>\n",
       "      <td>40.7594</td>\n",
       "    </tr>\n",
       "  </tbody>\n",
       "</table>\n",
       "</div>"
      ],
      "text/plain": [
       "   langitude  latitude\n",
       "0   -73.9549   40.7690\n",
       "1   -74.0345   40.7267\n",
       "2   -73.9873   40.7316\n",
       "3   -73.9776   40.7588\n",
       "4   -73.9722   40.7594"
      ]
     },
     "execution_count": 125,
     "metadata": {},
     "output_type": "execute_result"
    }
   ],
   "source": [
    "df.head()"
   ]
  },
  {
   "cell_type": "code",
   "execution_count": 131,
   "metadata": {},
   "outputs": [
    {
     "data": {
      "text/html": [
       "<div style=\"width:100%;\"><div style=\"position:relative;width:100%;height:0;padding-bottom:60%;\"><iframe src=\"data:text/html;charset=utf-8;base64,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\" style=\"position:absolute;width:100%;height:100%;left:0;top:0;border:none !important;\" allowfullscreen webkitallowfullscreen mozallowfullscreen></iframe></div></div>"
      ],
      "text/plain": [
       "<folium.folium.Map at 0x25d664afc18>"
      ]
     },
     "execution_count": 131,
     "metadata": {},
     "output_type": "execute_result"
    }
   ],
   "source": 
   ]
  },
  {
   "cell_type": "code",
   "execution_count": null,
   "metadata": {},
   "outputs": [],
   "source": []
  }
 ],
 "metadata": {
  "kernelspec": {
   "display_name": "python 3",
   "language": "python",
   "name": "python3"
  },
  "language_info": {
   "codemirror_mode": {
    "name": "ipython",
    "version": 3
   },
   "file_extension": ".py",
   "mimetype": "text/x-python",
   "name": "python",
   "nbconvert_exporter": "python",
   "pygments_lexer": "ipython3",
   "version": "3.7.1"
  }
 },
 "nbformat": 4,
 "nbformat_minor": 2
}
